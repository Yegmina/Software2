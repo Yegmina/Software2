{
 "cells": [
  {
   "cell_type": "code",
   "execution_count": null,
   "id": "1f0d0add-a2c2-42de-ba78-98fcd2b263fc",
   "metadata": {},
   "outputs": [],
   "source": [
    "name = \"Write your name here\"\n",
    "date_returned = \"Write the date returned here\""
   ]
  },
  {
   "cell_type": "markdown",
   "id": "dc3ece1b-2f3c-427c-80e0-3b9c79124136",
   "metadata": {},
   "source": [
    "# Lab 5\n",
    "**Kinematic equations and trajectories of free fall**<br>\n",
    "Software 2<br>\n",
    "Information and Communication Technology<br>\n",
    "Metropolia University of Applied Sciences"
   ]
  },
  {
   "cell_type": "markdown",
   "id": "2e51d74b-7c70-4052-9d02-eed048b8d0cb",
   "metadata": {},
   "source": [
    "## Setup\n",
    "\n",
    "Read necessary libraries."
   ]
  },
  {
   "cell_type": "code",
   "execution_count": 1,
   "id": "2780ee61-ca48-4c32-8bf5-f666b578133d",
   "metadata": {},
   "outputs": [],
   "source": [
    "import numpy as np\n",
    "import matplotlib.pyplot as plt"
   ]
  },
  {
   "cell_type": "markdown",
   "id": "7dc3124e-8322-4bbb-a278-48da8763e63d",
   "metadata": {},
   "source": [
    "## Problem 1\n",
    "\n",
    "You toss a ball straight up at $7.3\\;\\text{m/s}$. It leaves your hand at $1.5\\;\\text{m}$ above a floor (See example at page 7 in Software 1, Orientation Physics lecture notes).\n",
    "\n",
    "The position of the ball can be modeled with equation $y(t) = y_0 + v_0 t - \\frac{1}{2}g t^2$, where\n",
    "\n",
    "- $y_0$ is the initial position\n",
    "- $v_0$ is the initial velocity\n",
    "- $g$ is the acceleration due to gravity (9.81 m/s)\n",
    "- $t$ is the time.\n",
    "\n",
    "Draw the graph of the position of the ball over time. Use time step of 0.01 s. Limit the range of t to show only positive values of the position (e.g. when $y(t) \\geq 0$).\n",
    "\n",
    "When does the ball hit the ground? Store the value to variable `t_end` with accuracy of 0.01 s.\n",
    "\n",
    "What is the highest point of the ball? Store the value to variable `y_max` with two decimals accuracy (in units of meters)."
   ]
  },
  {
   "cell_type": "code",
   "execution_count": null,
   "id": "cc7b022c-0658-4450-bfec-545691538fac",
   "metadata": {},
   "outputs": [],
   "source": [
    "t = np.arange(0, None, 0.01)\n",
    "v0 = None\n",
    "g = None\n",
    "y0 = None\n",
    "y = None\n",
    "\n",
    "t_end = None\n",
    "y_max = None"
   ]
  },
  {
   "cell_type": "code",
   "execution_count": null,
   "id": "93a85cbf-2d8a-4d7b-a0d7-f0573b35694f",
   "metadata": {},
   "outputs": [],
   "source": [
    "t_end_calc = np.max(.....\n",
    "print(f't_end = {t_end_calc:.2.f} s')"
   ]
  },
  {
   "attachments": {},
   "cell_type": "markdown",
   "id": "a3285d09-1e5b-4c7d-80fc-87d561393277",
   "metadata": {},
   "source": [
    "## Problem 2\n",
    "\n",
    "A raging flood has washed away a section of of highway, creating a gash *2.0 m* deep. A car moving at *31 m/s* goes straight over the edge. How far from the edge of the washout does it land?\n",
    "\n",
    "<img src=\"./Lab_5_Problem_2.png\" alt=\"A car moving over the edge\" width=\"500\">\n",
    "\n",
    "(See Software 1, Orientation Physics lecture notes, page 13).\n",
    "\n",
    "Sketch a graph of the projectile motion (in x-y coordinates) of the car. The projectile motion can be modeled with equations:\n",
    "\n",
    "$x = x_0 + v_0 \\cdot \\cos(\\theta) \\cdot t$<br>\n",
    "\n",
    "$y = y_0 + v_0 \\cdot \\sin(\\theta) \\cdot t - \\frac{1}{2}g\\cdot t^2$\n",
    "\n",
    "where\n",
    "\n",
    "- $x_0, y_0$ is the initial position\n",
    "- $\\theta$ is the angle between x-axis and the initial velocity\n",
    "- $g$ is the gravitational acceleration ($9.81 \\; m/s^2$)\n",
    "- $t$ is the time\n",
    "\n",
    "Find the landing position with *0.1 m* accuracy and store the value to variable `x_landing`.\n",
    "\n",
    "How long is the time of flight? Find the value for that with *10 ms* (= *0.01 s*) accuracy and store it to the variable `t_flight`.\n",
    "\n",
    "Use the given range of times for calculations. Do not change them.\n",
    "\n",
    "Limit the x- and y-axis to show the whole trajectory of the motion from the beginning to the landing position.\n",
    "\n",
    "\n",
    "\n",
    "Decorate the graphics (grid-line, x- and y-axis labels, title).\n",
    "\n",
    "Assume the starting position ($x_0, y_0$) of the car's flight is (0, 0) in meters.\n",
    "\n",
    "NOTE: The angle for trigonometric functions (sin, cos, tan) should be given in [radians](https://en.wikipedia.org/wiki/Radian). For that reason we need [np.deg2rad()](https://numpy.org/doc/stable/reference/generated/numpy.deg2rad.html) function to convert the degrees to radians. See also: [Conversions of angles](https://en.wikipedia.org/wiki/Radian#Conversions)."
   ]
  },
  {
   "cell_type": "code",
   "execution_count": null,
   "id": "d3fc028f-3c1a-4971-8eac-7d6614be78d8",
   "metadata": {},
   "outputs": [],
   "source": [
    "import numpy as np\n",
    "import matplotlib.pyplot as plt\n",
    "\n",
    "x0 = 0\n",
    "y0 = 0\n",
    "v0 = None\n",
    "theta = np.deg2rad(None)\n",
    "g = None\n",
    "t = np.arange(0, 1, 0.001)\n",
    "x = None\n",
    "y = None\n",
    "\n",
    "plt.plot(x, y)\n",
    "plt.xlim()\n",
    "plt.ylim()\n",
    "\n",
    "x_landing = None\n",
    "t_flight = None"
   ]
  },
  {
   "cell_type": "markdown",
   "id": "7e568a35-33ec-461a-b4d0-fed091412994",
   "metadata": {},
   "source": [
    "## Problem 3\n",
    "\n",
    "You are aiming to throw a ball to a target standing on the level (see the graph generated by the code). You stand below the level. The ball leaves your hand 1.3 m above the ground. Find the minimum angle ($\\theta$) and speed ($v_0$) to hit the target.\n",
    "\n",
    "(See also Software 1, Orientation Physics lecture notes, page 14).\n",
    "\n",
    "Sketch a graph of the projectile motion with time step of 1 ms. Stop counting when it hits the target, e.g. you should end the trajectory data (x, y) to the edge or inside the target area.\n",
    "\n",
    "Avoid to hit the corner of the level. Leave minimum *2 cm* clearance to the edge.\n",
    "\n",
    "Use the same projectile motion equations as in the previous problem."
   ]
  },
  {
   "cell_type": "code",
   "execution_count": 3,
   "id": "650e16e4-6e77-47ab-95bf-7a5c5beae011",
   "metadata": {},
   "outputs": [
    {
     "data": {
      "image/png": "[encoded data removed]",
      "text/plain": [
       "<Figure size 432x288 with 1 Axes>"
      ]
     },
     "metadata": {
      "needs_background": "light"
     },
     "output_type": "display_data"
    }
   ],
   "source": [
    "t = np.arange(0, None, 0.001)\n",
    "\n",
    "v0 = None\n",
    "theta = np.deg2rad(None)\n",
    "g = 9.81\n",
    "x = None\n",
    "y = None\n",
    "\n",
    "### DO NOT CHANGE THESE SETTINGS !!! ####\n",
    "x0, y0 = 0, 1.3\n",
    "x1 = [10, 9.5, 9.5, 10, 10]\n",
    "y1 = [2.5, 2.5, 2.3, 2.3, 2.5]\n",
    "x_edge = [0, 2, 2, 10]\n",
    "y_edge = [0, 0, 2, 2]\n",
    "\n",
    "plt.plot(x_edge, y_edge, label = 'Edge and level')\n",
    "plt.plot(x0, y0, 'bs', label = 'Start')\n",
    "plt.plot(x1, y1, 'r-', label = 'Target')\n",
    "plt.grid()\n",
    "plt.xlabel('x position (m)')\n",
    "plt.ylabel('y position (m)')\n",
    "plt.title('Throwing a ball to the target')\n",
    "plt.legend()\n",
    "plt.ylim(-0.2, 5)\n",
    "\n",
    "# Show the trajectory\n",
    "# plt.plot(x, y)\n",
    "plt.show()"
   ]
  },
  {
   "cell_type": "markdown",
   "id": "10da95a5-9f47-49ba-8dd9-cbc5512b0553",
   "metadata": {},
   "source": [
    "---\n",
    "## Bonus\n",
    "\n",
    "Below is the same code as in previous problem, but the time step is now changed down to 0.01 s in order to create and show the animation faster. You can play with this code and see how the animation works.\n",
    "\n",
    "Copy your trajectory motion code from previous problem to the code cell below."
   ]
  },
  {
   "cell_type": "code",
   "execution_count": null,
   "id": "433a2f93-0c52-4cd4-b322-155b3c475443",
   "metadata": {},
   "outputs": [],
   "source": [
    "from matplotlib.animation import FuncAnimation\n",
    "from IPython.display import HTML"
   ]
  },
  {
   "cell_type": "code",
   "execution_count": null,
   "id": "28ea929c-fed3-4677-88cd-d4ec1f0bd1bf",
   "metadata": {},
   "outputs": [],
   "source": [
    "t = np.arange(0, None, 0.01) # Note the time step!\n",
    "\n",
    "v0 = None\n",
    "theta = np.deg2rad(None)\n",
    "g = 9.81\n",
    "x = None\n",
    "y = None\n",
    "\n",
    "\n",
    "### Don't change these ###\n",
    "### Initial graph\n",
    "x0, y0 = 0, 1.3\n",
    "x1 = [10, 9.5, 9.5, 10, 10]\n",
    "y1 = [2.5, 2.5, 2.3, 2.3, 2.5]\n",
    "x_edge = [0, 2, 2, 10]\n",
    "y_edge = [0, 0, 2, 2]\n",
    "\n",
    "fig, ax = plt.subplots()\n",
    "plt.sca(ax)\n",
    "plt.plot(x_edge, y_edge, label = 'Edge')\n",
    "plt.plot(x0, y0, 'bs', label = 'Start')\n",
    "plt.plot(x1, y1, 'r-', label = 'Target')\n",
    "plt.grid()\n",
    "plt.xlabel('x position (m)')\n",
    "plt.ylabel('y position (m)')\n",
    "plt.title('Throwing a ball to the target')\n",
    "plt.legend()\n",
    "plt.ylim(-0.2, 5)\n",
    "\n",
    "\n",
    "# Initialize the position in the graph\n",
    "l, = ax.plot(x[0],y[0], 'b-')     # Tail of the trajectory\n",
    "l2, = ax.plot(x[0], y[0], 'ro')   # Position of the ball\n",
    "ax.set_title(f't = {t[-1]:.2f}')  # Change the title to the elapsed time\n",
    "plt.grid(True)\n",
    "\n",
    "# Animation function\n",
    "def animate(i):\n",
    "    i0 = max(0, i-10)             # Get 10 points from the data\n",
    "    l.set_data(x[i0:i], y[i0:i])  # Show the tail\n",
    "    l2.set_data([x[i]], [y[i]])       # Show the position\n",
    "    ax.set_title(f't = {t[i]:.2f}') # Update the title\n",
    "\n",
    "# Create the animation\n",
    "ani = FuncAnimation(fig, animate, frames=len(t))\n",
    "\n",
    "# Show animation in Javascript HTML object\n",
    "HTML(ani.to_jshtml())\n",
    "\n",
    "# When ready, click the Play-button in the graphics below."
   ]
  }
 ],
 "metadata": {
  "kernelspec": {
   "display_name": "tf",
   "language": "python",
   "name": "python3"
  },
  "language_info": {
   "codemirror_mode": {
    "name": "ipython",
    "version": 3
   },
   "file_extension": ".py",
   "mimetype": "text/x-python",
   "name": "python",
   "nbconvert_exporter": "python",
   "pygments_lexer": "ipython3",
   "version": "3.10.13"
  },
  "vscode": {
   "interpreter": {
    "hash": "2761b8866705c7977972eb3de10ac573bf7dbd77da82d81edc331de9a23faab8"
   }
  }
 },
 "nbformat": 4,
 "nbformat_minor": 5
}
